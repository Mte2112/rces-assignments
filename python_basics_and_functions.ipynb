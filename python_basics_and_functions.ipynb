{
 "cells": [
  {
   "cell_type": "markdown",
   "metadata": {},
   "source": [
    "# Assignment: Basic Python\n"
   ]
  },
  {
   "cell_type": "markdown",
   "metadata": {},
   "source": [
    "## Part I: Lists and Loops\n",
    "\n",
    "In this problem, we will explore the basic data structures and flow controls of Python by _manually parsing a CSV file_.\n",
    "\n",
    "Note that this is a futile exercise. In the \"real world\" you should never manually parse a CSV file. There are utilities out there that will do it for you much more quickly and efficiently. However, it is a useful exercise for learning Python.\n",
    "\n",
    "First we need to download a data file to parse. We can do this from the terminal, OR we can use `!` to run shell commands directly from the notebook. However you do it, you need to run this command (all one line):\n",
    "\n",
    "    curl -L -o rces-roster-2020.csv \"https://drive.google.com/uc?export=download&id=1qMWDj55zbbRaVRE5SdqouTYRMQ-gCcka\"\n",
    "    \n",
    "Before starting the Python part, use the JupyterLab file browser to browse to this file. Click to open it. What do you see?"
   ]
  },
  {
   "cell_type": "markdown",
   "metadata": {},
   "source": [
    "Now we will begin the process of reading the file with Python\n",
    "\n",
    "### Open the file using the `open` function \n",
    "\n",
    "Specifically, run the command\n",
    "\n",
    "    file = open('rces-roster-2020.csv')"
   ]
  },
  {
   "cell_type": "code",
   "execution_count": 78,
   "metadata": {},
   "outputs": [],
   "source": [
    "file = open('rces-roster-2020.csv')"
   ]
  },
  {
   "cell_type": "markdown",
   "metadata": {},
   "source": [
    "### Use the `help` function to get the documentation for your new variable `file`\n",
    "\n",
    "This will produce a long list of methods you can use with `file`."
   ]
  },
  {
   "cell_type": "code",
   "execution_count": 79,
   "metadata": {},
   "outputs": [
    {
     "name": "stdout",
     "output_type": "stream",
     "text": [
      "Help on TextIOWrapper object:\n",
      "\n",
      "class TextIOWrapper(_TextIOBase)\n",
      " |  TextIOWrapper(buffer, encoding=None, errors=None, newline=None, line_buffering=False, write_through=False)\n",
      " |  \n",
      " |  Character and line based layer over a BufferedIOBase object, buffer.\n",
      " |  \n",
      " |  encoding gives the name of the encoding that the stream will be\n",
      " |  decoded or encoded with. It defaults to locale.getpreferredencoding(False).\n",
      " |  \n",
      " |  errors determines the strictness of encoding and decoding (see\n",
      " |  help(codecs.Codec) or the documentation for codecs.register) and\n",
      " |  defaults to \"strict\".\n",
      " |  \n",
      " |  newline controls how line endings are handled. It can be None, '',\n",
      " |  '\\n', '\\r', and '\\r\\n'.  It works as follows:\n",
      " |  \n",
      " |  * On input, if newline is None, universal newlines mode is\n",
      " |    enabled. Lines in the input can end in '\\n', '\\r', or '\\r\\n', and\n",
      " |    these are translated into '\\n' before being returned to the\n",
      " |    caller. If it is '', universal newline mode is enabled, but line\n",
      " |    endings are returned to the caller untranslated. If it has any of\n",
      " |    the other legal values, input lines are only terminated by the given\n",
      " |    string, and the line ending is returned to the caller untranslated.\n",
      " |  \n",
      " |  * On output, if newline is None, any '\\n' characters written are\n",
      " |    translated to the system default line separator, os.linesep. If\n",
      " |    newline is '' or '\\n', no translation takes place. If newline is any\n",
      " |    of the other legal values, any '\\n' characters written are translated\n",
      " |    to the given string.\n",
      " |  \n",
      " |  If line_buffering is True, a call to flush is implied when a call to\n",
      " |  write contains a newline character.\n",
      " |  \n",
      " |  Method resolution order:\n",
      " |      TextIOWrapper\n",
      " |      _TextIOBase\n",
      " |      _IOBase\n",
      " |      builtins.object\n",
      " |  \n",
      " |  Methods defined here:\n",
      " |  \n",
      " |  __getstate__(...)\n",
      " |  \n",
      " |  __init__(self, /, *args, **kwargs)\n",
      " |      Initialize self.  See help(type(self)) for accurate signature.\n",
      " |  \n",
      " |  __next__(self, /)\n",
      " |      Implement next(self).\n",
      " |  \n",
      " |  __repr__(self, /)\n",
      " |      Return repr(self).\n",
      " |  \n",
      " |  close(self, /)\n",
      " |      Flush and close the IO object.\n",
      " |      \n",
      " |      This method has no effect if the file is already closed.\n",
      " |  \n",
      " |  detach(self, /)\n",
      " |      Separate the underlying buffer from the TextIOBase and return it.\n",
      " |      \n",
      " |      After the underlying buffer has been detached, the TextIO is in an\n",
      " |      unusable state.\n",
      " |  \n",
      " |  fileno(self, /)\n",
      " |      Returns underlying file descriptor if one exists.\n",
      " |      \n",
      " |      OSError is raised if the IO object does not use a file descriptor.\n",
      " |  \n",
      " |  flush(self, /)\n",
      " |      Flush write buffers, if applicable.\n",
      " |      \n",
      " |      This is not implemented for read-only and non-blocking streams.\n",
      " |  \n",
      " |  isatty(self, /)\n",
      " |      Return whether this is an 'interactive' stream.\n",
      " |      \n",
      " |      Return False if it can't be determined.\n",
      " |  \n",
      " |  read(self, size=-1, /)\n",
      " |      Read at most n characters from stream.\n",
      " |      \n",
      " |      Read from underlying buffer until we have n characters or we hit EOF.\n",
      " |      If n is negative or omitted, read until EOF.\n",
      " |  \n",
      " |  readable(self, /)\n",
      " |      Return whether object was opened for reading.\n",
      " |      \n",
      " |      If False, read() will raise OSError.\n",
      " |  \n",
      " |  readline(self, size=-1, /)\n",
      " |      Read until newline or EOF.\n",
      " |      \n",
      " |      Returns an empty string if EOF is hit immediately.\n",
      " |  \n",
      " |  reconfigure(self, /, *, encoding=None, errors=None, newline=None, line_buffering=None, write_through=None)\n",
      " |      Reconfigure the text stream with new parameters.\n",
      " |      \n",
      " |      This also does an implicit stream flush.\n",
      " |  \n",
      " |  seek(self, cookie, whence=0, /)\n",
      " |      Change stream position.\n",
      " |      \n",
      " |      Change the stream position to the given byte offset. The offset is\n",
      " |      interpreted relative to the position indicated by whence.  Values\n",
      " |      for whence are:\n",
      " |      \n",
      " |      * 0 -- start of stream (the default); offset should be zero or positive\n",
      " |      * 1 -- current stream position; offset may be negative\n",
      " |      * 2 -- end of stream; offset is usually negative\n",
      " |      \n",
      " |      Return the new absolute position.\n",
      " |  \n",
      " |  seekable(self, /)\n",
      " |      Return whether object supports random access.\n",
      " |      \n",
      " |      If False, seek(), tell() and truncate() will raise OSError.\n",
      " |      This method may need to do a test seek().\n",
      " |  \n",
      " |  tell(self, /)\n",
      " |      Return current stream position.\n",
      " |  \n",
      " |  truncate(self, pos=None, /)\n",
      " |      Truncate file to size bytes.\n",
      " |      \n",
      " |      File pointer is left unchanged.  Size defaults to the current IO\n",
      " |      position as reported by tell().  Returns the new size.\n",
      " |  \n",
      " |  writable(self, /)\n",
      " |      Return whether object was opened for writing.\n",
      " |      \n",
      " |      If False, write() will raise OSError.\n",
      " |  \n",
      " |  write(self, text, /)\n",
      " |      Write string to stream.\n",
      " |      Returns the number of characters written (which is always equal to\n",
      " |      the length of the string).\n",
      " |  \n",
      " |  ----------------------------------------------------------------------\n",
      " |  Static methods defined here:\n",
      " |  \n",
      " |  __new__(*args, **kwargs) from builtins.type\n",
      " |      Create and return a new object.  See help(type) for accurate signature.\n",
      " |  \n",
      " |  ----------------------------------------------------------------------\n",
      " |  Data descriptors defined here:\n",
      " |  \n",
      " |  buffer\n",
      " |  \n",
      " |  closed\n",
      " |  \n",
      " |  encoding\n",
      " |      Encoding of the text stream.\n",
      " |      \n",
      " |      Subclasses should override.\n",
      " |  \n",
      " |  errors\n",
      " |      The error setting of the decoder or encoder.\n",
      " |      \n",
      " |      Subclasses should override.\n",
      " |  \n",
      " |  line_buffering\n",
      " |  \n",
      " |  name\n",
      " |  \n",
      " |  newlines\n",
      " |      Line endings translated so far.\n",
      " |      \n",
      " |      Only line endings translated during reading are considered.\n",
      " |      \n",
      " |      Subclasses should override.\n",
      " |  \n",
      " |  write_through\n",
      " |  \n",
      " |  ----------------------------------------------------------------------\n",
      " |  Methods inherited from _IOBase:\n",
      " |  \n",
      " |  __del__(...)\n",
      " |  \n",
      " |  __enter__(...)\n",
      " |  \n",
      " |  __exit__(...)\n",
      " |  \n",
      " |  __iter__(self, /)\n",
      " |      Implement iter(self).\n",
      " |  \n",
      " |  readlines(self, hint=-1, /)\n",
      " |      Return a list of lines from the stream.\n",
      " |      \n",
      " |      hint can be specified to control the number of lines read: no more\n",
      " |      lines will be read if the total size (in bytes/characters) of all\n",
      " |      lines so far exceeds hint.\n",
      " |  \n",
      " |  writelines(self, lines, /)\n",
      " |      Write a list of lines to stream.\n",
      " |      \n",
      " |      Line separators are not added, so it is usual for each of the\n",
      " |      lines provided to have a line separator at the end.\n",
      " |  \n",
      " |  ----------------------------------------------------------------------\n",
      " |  Data descriptors inherited from _IOBase:\n",
      " |  \n",
      " |  __dict__\n",
      "\n"
     ]
    }
   ],
   "source": [
    "help(file)"
   ]
  },
  {
   "cell_type": "markdown",
   "metadata": {},
   "source": [
    "### Read the lines of the file into a variable called `lines`\n",
    "\n",
    "Hint: use the documentation above to find the method that sounds most likely to do what you want."
   ]
  },
  {
   "cell_type": "code",
   "execution_count": 80,
   "metadata": {},
   "outputs": [],
   "source": [
    "lines = file.readlines()"
   ]
  },
  {
   "cell_type": "markdown",
   "metadata": {},
   "source": [
    "What type of object is `lines`?"
   ]
  },
  {
   "cell_type": "code",
   "execution_count": 81,
   "metadata": {},
   "outputs": [
    {
     "data": {
      "text/plain": [
       "list"
      ]
     },
     "execution_count": 81,
     "metadata": {},
     "output_type": "execute_result"
    }
   ],
   "source": [
    "type(lines)"
   ]
  },
  {
   "cell_type": "markdown",
   "metadata": {},
   "source": [
    "It should be a familiar type we learned about in class.\n",
    "\n",
    "### Display `lines` at the end of a cell in order to see its contents"
   ]
  },
  {
   "cell_type": "code",
   "execution_count": 83,
   "metadata": {},
   "outputs": [
    {
     "name": "stdout",
     "output_type": "stream",
     "text": [
      "['last,first,uni\\n', 'Antwerpen,Rafael,ra3063\\n', 'Baur,Jasper,jb4493\\n', 'Berghoff,Garrett,gb2681\\n', 'Brayton,Casey,cb3630\\n', 'Burke,Jaron,jb4389\\n', 'Chen,Shunan,sc4571\\n', 'Elling,Maxwell,mte2112\\n', 'Hlinka,Lisa,lh2672\\n', 'Ho,Ioikuan,ih2347\\n', 'Jacobson,Tess,twj2103\\n', 'Jasper,Claire,cej2141\\n', 'Juang,Caroline,csj2116\\n', 'Le,Huy,hdl2115\\n', 'Levin,Janette,jnl2127\\n', 'Meng,Hongyan,hm2809\\n', 'Nielsen,Miriam,mn2812\\n', 'Peccia,Ally,asp2201\\n', 'Smith,Sarah,ses2271\\n', 'Song,Dongping,ds3301\\n', 'Sun,Yuliang,ys3221\\n', 'Walther,Tess,tlw2139\\n', 'Yin,Danqi,dy2395\\n']\n"
     ]
    }
   ],
   "source": [
    "print(lines)"
   ]
  },
  {
   "cell_type": "markdown",
   "metadata": {},
   "source": [
    "### Use slicing to display the first three items of the list. And the last 3"
   ]
  },
  {
   "cell_type": "code",
   "execution_count": 84,
   "metadata": {},
   "outputs": [
    {
     "data": {
      "text/plain": [
       "['last,first,uni\\n', 'Antwerpen,Rafael,ra3063\\n', 'Baur,Jasper,jb4493\\n']"
      ]
     },
     "execution_count": 84,
     "metadata": {},
     "output_type": "execute_result"
    }
   ],
   "source": [
    "lines[:3]"
   ]
  },
  {
   "cell_type": "code",
   "execution_count": 85,
   "metadata": {},
   "outputs": [
    {
     "data": {
      "text/plain": [
       "['Sun,Yuliang,ys3221\\n', 'Walther,Tess,tlw2139\\n', 'Yin,Danqi,dy2395\\n']"
      ]
     },
     "execution_count": 85,
     "metadata": {},
     "output_type": "execute_result"
    }
   ],
   "source": [
    "lines[-3:]"
   ]
  },
  {
   "cell_type": "markdown",
   "metadata": {},
   "source": [
    "### Create a new list called `data` that does not contain the header row"
   ]
  },
  {
   "cell_type": "code",
   "execution_count": 148,
   "metadata": {},
   "outputs": [
    {
     "name": "stdout",
     "output_type": "stream",
     "text": [
      "['Antwerpen,Rafael,ra3063\\n', 'Baur,Jasper,jb4493\\n', 'Berghoff,Garrett,gb2681\\n', 'Brayton,Casey,cb3630\\n', 'Burke,Jaron,jb4389\\n', 'Chen,Shunan,sc4571\\n', 'Elling,Maxwell,mte2112\\n', 'Hlinka,Lisa,lh2672\\n', 'Ho,Ioikuan,ih2347\\n', 'Jacobson,Tess,twj2103\\n', 'Jasper,Claire,cej2141\\n', 'Juang,Caroline,csj2116\\n', 'Le,Huy,hdl2115\\n', 'Levin,Janette,jnl2127\\n', 'Meng,Hongyan,hm2809\\n', 'Nielsen,Miriam,mn2812\\n', 'Peccia,Ally,asp2201\\n', 'Smith,Sarah,ses2271\\n', 'Song,Dongping,ds3301\\n', 'Sun,Yuliang,ys3221\\n', 'Walther,Tess,tlw2139\\n', 'Yin,Danqi,dy2395\\n']\n"
     ]
    }
   ],
   "source": [
    "data = lines[1:23]\n",
    "print(data)"
   ]
  },
  {
   "cell_type": "markdown",
   "metadata": {},
   "source": [
    "### Now iterate through `lines` and `print` the item if it contains your UNI"
   ]
  },
  {
   "cell_type": "code",
   "execution_count": 149,
   "metadata": {},
   "outputs": [
    {
     "name": "stdout",
     "output_type": "stream",
     "text": [
      "Elling,Maxwell,mte2112\n",
      "\n"
     ]
    }
   ],
   "source": [
    "mte2112 = 'mte2112'\n",
    "for line in data:\n",
    "    if mte2112 in line:\n",
    "        print(line)"
   ]
  },
  {
   "cell_type": "markdown",
   "metadata": {},
   "source": [
    "By now you have figured out what is in this data. Let's now transform it into a more useful format.\n",
    "\n",
    "### Write code to transform the data into a dictionary whose keys are UNIs and whose values are full names.\n",
    "\n",
    "(You might need to review Python's [string methods](https://docs.python.org/3/library/stdtypes.html#textseq).)\n"
   ]
  },
  {
   "cell_type": "code",
   "execution_count": 173,
   "metadata": {},
   "outputs": [
    {
     "name": "stdout",
     "output_type": "stream",
     "text": [
      "[['Antwerpen', 'Rafael', 'ra3063\\n'], ['Baur', 'Jasper', 'jb4493\\n'], ['Berghoff', 'Garrett', 'gb2681\\n'], ['Brayton', 'Casey', 'cb3630\\n'], ['Burke', 'Jaron', 'jb4389\\n'], ['Chen', 'Shunan', 'sc4571\\n'], ['Elling', 'Maxwell', 'mte2112\\n'], ['Hlinka', 'Lisa', 'lh2672\\n'], ['Ho', 'Ioikuan', 'ih2347\\n'], ['Jacobson', 'Tess', 'twj2103\\n'], ['Jasper', 'Claire', 'cej2141\\n'], ['Juang', 'Caroline', 'csj2116\\n'], ['Le', 'Huy', 'hdl2115\\n'], ['Levin', 'Janette', 'jnl2127\\n'], ['Meng', 'Hongyan', 'hm2809\\n'], ['Nielsen', 'Miriam', 'mn2812\\n'], ['Peccia', 'Ally', 'asp2201\\n'], ['Smith', 'Sarah', 'ses2271\\n'], ['Song', 'Dongping', 'ds3301\\n'], ['Sun', 'Yuliang', 'ys3221\\n'], ['Walther', 'Tess', 'tlw2139\\n'], ['Yin', 'Danqi', 'dy2395\\n']]\n"
     ]
    }
   ],
   "source": [
    "split = list()\n",
    "for p in data:\n",
    "    split.append(p.rsplit(','))\n",
    "print(split)"
   ]
  },
  {
   "cell_type": "code",
   "execution_count": 189,
   "metadata": {},
   "outputs": [
    {
     "name": "stdout",
     "output_type": "stream",
     "text": [
      "{'ra3063': 'Rafael Antwerpen', 'jb4493': 'Jasper Baur', 'gb2681': 'Garrett Berghoff', 'cb3630': 'Casey Brayton', 'jb4389': 'Jaron Burke', 'sc4571': 'Shunan Chen', 'mte2112': 'Maxwell Elling', 'lh2672': 'Lisa Hlinka', 'ih2347': 'Ioikuan Ho', 'twj2103': 'Tess Jacobson', 'cej2141': 'Claire Jasper', 'csj2116': 'Caroline Juang', 'hdl2115': 'Huy Le', 'jnl2127': 'Janette Levin', 'hm2809': 'Hongyan Meng', 'mn2812': 'Miriam Nielsen', 'asp2201': 'Ally Peccia', 'ses2271': 'Sarah Smith', 'ds3301': 'Dongping Song', 'ys3221': 'Yuliang Sun', 'tlw2139': 'Tess Walther', 'dy2395': 'Danqi Yin'}\n"
     ]
    }
   ],
   "source": [
    "items = {}\n",
    "\n",
    "for line in split:\n",
    "        key, value = line[2][:-1], line[1] + \" \" + line[0]\n",
    "        dict[key] = value\n",
    "print(dict)"
   ]
  },
  {
   "cell_type": "markdown",
   "metadata": {},
   "source": [
    "### Use this dictionary to look up your own name using your UNI"
   ]
  },
  {
   "cell_type": "code",
   "execution_count": 192,
   "metadata": {},
   "outputs": [
    {
     "data": {
      "text/plain": [
       "'Maxwell Elling'"
      ]
     },
     "execution_count": 192,
     "metadata": {},
     "output_type": "execute_result"
    }
   ],
   "source": [
    "dict[mte2112]"
   ]
  },
  {
   "cell_type": "markdown",
   "metadata": {},
   "source": [
    "### Figure out who has the longest last name in the class"
   ]
  },
  {
   "cell_type": "code",
   "execution_count": 202,
   "metadata": {},
   "outputs": [
    {
     "data": {
      "text/plain": [
       "'ra3063\\n'"
      ]
     },
     "execution_count": 202,
     "metadata": {},
     "output_type": "execute_result"
    }
   ],
   "source": [
    "max(split[0])"
   ]
  },
  {
   "cell_type": "code",
   "execution_count": null,
   "metadata": {},
   "outputs": [],
   "source": [
    "#Rafael Antwerpen has the longest last name"
   ]
  },
  {
   "cell_type": "markdown",
   "metadata": {},
   "source": [
    "## Part II: Exploring the Python Standard Library\n",
    "\n",
    "Skim the [documentation for the datetime module](https://docs.python.org/3/library/datetime.html)\n",
    "\n",
    "### 1. Import the `datetime` module"
   ]
  },
  {
   "cell_type": "code",
   "execution_count": 92,
   "metadata": {},
   "outputs": [],
   "source": [
    "import datetime"
   ]
  },
  {
   "cell_type": "markdown",
   "metadata": {},
   "source": [
    "### 2. Create a `datetime` object for the day you were born\n",
    "\n",
    "and print its representation in your notebook"
   ]
  },
  {
   "cell_type": "code",
   "execution_count": 93,
   "metadata": {},
   "outputs": [
    {
     "name": "stdout",
     "output_type": "stream",
     "text": [
      "1997-07-22\n"
     ]
    }
   ],
   "source": [
    "birthday = datetime.date(1997, 7, 22)\n",
    "print(birthday)"
   ]
  },
  {
   "cell_type": "markdown",
   "metadata": {},
   "source": [
    "### 3. Create a `timedelta` object representing 100 days, 10 hours, and 13 minutes"
   ]
  },
  {
   "cell_type": "code",
   "execution_count": 94,
   "metadata": {},
   "outputs": [
    {
     "name": "stdout",
     "output_type": "stream",
     "text": [
      "100 days, 10:13:00\n"
     ]
    }
   ],
   "source": [
    "duration = datetime.timedelta(days = 100, hours = 10, minutes = 13)\n",
    "print(duration)"
   ]
  },
  {
   "cell_type": "markdown",
   "metadata": {},
   "source": [
    "### 4. Verify that these two objects do not have the same type\n",
    "\n",
    "Use an `assert` statement"
   ]
  },
  {
   "cell_type": "code",
   "execution_count": 95,
   "metadata": {},
   "outputs": [],
   "source": [
    "assert birthday != duration"
   ]
  },
  {
   "cell_type": "markdown",
   "metadata": {},
   "source": [
    "### 5. Add the timedelta to the datetime\n",
    "\n",
    "and assign it to a new variable"
   ]
  },
  {
   "cell_type": "code",
   "execution_count": 96,
   "metadata": {},
   "outputs": [
    {
     "name": "stdout",
     "output_type": "stream",
     "text": [
      "1997-10-30\n"
     ]
    }
   ],
   "source": [
    "futuredate = birthday + duration\n",
    "print(futuredate)"
   ]
  },
  {
   "cell_type": "markdown",
   "metadata": {},
   "source": [
    "### 6. Display the month of the new date"
   ]
  },
  {
   "cell_type": "code",
   "execution_count": 97,
   "metadata": {},
   "outputs": [
    {
     "name": "stdout",
     "output_type": "stream",
     "text": [
      "10\n"
     ]
    }
   ],
   "source": [
    "print(futuredate.month)"
   ]
  },
  {
   "cell_type": "markdown",
   "metadata": {},
   "source": [
    "### 7. Create a list of datetimes for all of your birthdays\n",
    "\n",
    "beginning from your 1st birthday and ending on your most recent birthday. (Don't do this manually; use a loop or a list comprehension!)"
   ]
  },
  {
   "cell_type": "code",
   "execution_count": 98,
   "metadata": {},
   "outputs": [
    {
     "name": "stdout",
     "output_type": "stream",
     "text": [
      "[0, 1, 2, 3, 4, 5, 6, 7, 8, 9, 10, 11, 12, 13, 14, 15, 16, 17, 18, 19, 20, 21, 22, 23]\n"
     ]
    }
   ],
   "source": [
    "integers = list(range(24))\n",
    "print(integers)"
   ]
  },
  {
   "cell_type": "code",
   "execution_count": 99,
   "metadata": {},
   "outputs": [],
   "source": [
    "birthdays = list()\n",
    "for x in integers:\n",
    "    birthdays.append(str(1997+x) + \"-7-22\")"
   ]
  },
  {
   "cell_type": "code",
   "execution_count": 67,
   "metadata": {},
   "outputs": [
    {
     "name": "stdout",
     "output_type": "stream",
     "text": [
      "['1997-7-22', '1998-7-22', '1999-7-22', '2000-7-22', '2001-7-22', '2002-7-22', '2003-7-22', '2004-7-22', '2005-7-22', '2006-7-22', '2007-7-22', '2008-7-22', '2009-7-22', '2010-7-22', '2011-7-22', '2012-7-22', '2013-7-22', '2014-7-22', '2015-7-22', '2016-7-22', '2017-7-22', '2018-7-22', '2019-7-22', '2020-7-22']\n"
     ]
    }
   ],
   "source": [
    "print(birthdays)"
   ]
  },
  {
   "cell_type": "code",
   "execution_count": 106,
   "metadata": {},
   "outputs": [
    {
     "name": "stdout",
     "output_type": "stream",
     "text": [
      "[datetime.datetime(1997, 7, 22, 0, 0), datetime.datetime(1998, 7, 22, 0, 0), datetime.datetime(1999, 7, 22, 0, 0), datetime.datetime(2000, 7, 22, 0, 0), datetime.datetime(2001, 7, 22, 0, 0), datetime.datetime(2002, 7, 22, 0, 0), datetime.datetime(2003, 7, 22, 0, 0), datetime.datetime(2004, 7, 22, 0, 0), datetime.datetime(2005, 7, 22, 0, 0), datetime.datetime(2006, 7, 22, 0, 0), datetime.datetime(2007, 7, 22, 0, 0), datetime.datetime(2008, 7, 22, 0, 0), datetime.datetime(2009, 7, 22, 0, 0), datetime.datetime(2010, 7, 22, 0, 0), datetime.datetime(2011, 7, 22, 0, 0), datetime.datetime(2012, 7, 22, 0, 0), datetime.datetime(2013, 7, 22, 0, 0), datetime.datetime(2014, 7, 22, 0, 0), datetime.datetime(2015, 7, 22, 0, 0), datetime.datetime(2016, 7, 22, 0, 0), datetime.datetime(2017, 7, 22, 0, 0), datetime.datetime(2018, 7, 22, 0, 0), datetime.datetime(2019, 7, 22, 0, 0), datetime.datetime(2020, 7, 22, 0, 0)]\n"
     ]
    }
   ],
   "source": [
    "date = [datetime.strptime(x, '%Y-%m-%d') for x in birthdays]\n",
    "print(date)"
   ]
  },
  {
   "cell_type": "markdown",
   "metadata": {},
   "source": [
    "### 8. Count how many of your birthdays occured on a Tuesday\n",
    "\n",
    "Don't forget about the [docs](https://docs.python.org/3/library/datetime.html)!"
   ]
  },
  {
   "cell_type": "code",
   "execution_count": 144,
   "metadata": {},
   "outputs": [
    {
     "name": "stdout",
     "output_type": "stream",
     "text": [
      "[1, 2, 3, 5, 6, 0, 1, 3, 4, 5, 6, 1, 2, 3, 4, 6, 0, 1, 2, 4, 5, 6, 0, 2]\n"
     ]
    }
   ],
   "source": [
    "daysofweek = list()\n",
    "for x in date:\n",
    "    daysofweek.append(x.weekday())\n",
    "print(daysofweek)"
   ]
  },
  {
   "cell_type": "code",
   "execution_count": 145,
   "metadata": {},
   "outputs": [
    {
     "data": {
      "text/plain": [
       "4"
      ]
     },
     "execution_count": 145,
     "metadata": {},
     "output_type": "execute_result"
    }
   ],
   "source": [
    "daysofweek.count(2)"
   ]
  },
  {
   "cell_type": "code",
   "execution_count": null,
   "metadata": {},
   "outputs": [],
   "source": [
    "# 4 of my birthdays occured on a Tuesday"
   ]
  },
  {
   "cell_type": "markdown",
   "metadata": {},
   "source": [
    "## Part III: Functions\n",
    "\n",
    "### 1. Write a function to convert temperature from kelvin to celsius\n",
    "\n",
    "and celsius to kelvin"
   ]
  },
  {
   "cell_type": "code",
   "execution_count": 50,
   "metadata": {},
   "outputs": [],
   "source": [
    "def kelvin_to_celcius(kelvinTemp):\n",
    "    \"\"\"convert kelvin to celcius\"\"\"\n",
    "    return kelvinTemp - 273.15"
   ]
  },
  {
   "cell_type": "markdown",
   "metadata": {},
   "source": [
    "### 2. Write a function to convert temperature to fahrenheit\n",
    "\n",
    "Include an optional keyword argument to specify whether the input is in  celcius or kelvin.\n",
    "Call your previously defined functions if necessary."
   ]
  },
  {
   "cell_type": "code",
   "execution_count": 66,
   "metadata": {},
   "outputs": [],
   "source": [
    "def convert_to_fahrenheit(scale, temp):\n",
    "    \"\"\"converting to fahrenheit from kelvin or celcius\"\"\"\n",
    "    if scale == 'K':\n",
    "        return((temp - 273.15)*9/5 + 32)\n",
    "    elif scale == 'C':\n",
    "        return(temp*9/5 + 32)\n",
    "    else:\n",
    "        print('missing scale')"
   ]
  },
  {
   "cell_type": "markdown",
   "metadata": {},
   "source": [
    "### 3. Check that the outputs are sensible\n",
    "\n",
    "by trying a few examples"
   ]
  },
  {
   "cell_type": "code",
   "execution_count": 64,
   "metadata": {},
   "outputs": [
    {
     "data": {
      "text/plain": [
       "-18.149999999999977"
      ]
     },
     "execution_count": 64,
     "metadata": {},
     "output_type": "execute_result"
    }
   ],
   "source": [
    "kelvin_to_celcius(255)"
   ]
  },
  {
   "cell_type": "code",
   "execution_count": 68,
   "metadata": {},
   "outputs": [
    {
     "data": {
      "text/plain": [
       "32.0"
      ]
     },
     "execution_count": 68,
     "metadata": {},
     "output_type": "execute_result"
    }
   ],
   "source": [
    "convert_to_fahrenheit('K', 273.15)"
   ]
  },
  {
   "cell_type": "code",
   "execution_count": 70,
   "metadata": {},
   "outputs": [
    {
     "data": {
      "text/plain": [
       "32.0"
      ]
     },
     "execution_count": 70,
     "metadata": {},
     "output_type": "execute_result"
    }
   ],
   "source": [
    "convert_to_fahrenheit('C', 0)"
   ]
  },
  {
   "cell_type": "markdown",
   "metadata": {},
   "source": [
    "### 4. Now write a function that converts _from_ farenheit\n",
    "\n",
    "and uses a keyword argument to specify whether you want the output in celcius or kelvin"
   ]
  },
  {
   "cell_type": "code",
   "execution_count": 77,
   "metadata": {},
   "outputs": [
    {
     "data": {
      "text/plain": [
       "0.0"
      ]
     },
     "execution_count": 77,
     "metadata": {},
     "output_type": "execute_result"
    }
   ],
   "source": [
    "def convert_from_fahrenheit(scale, temp):\n",
    "    \"\"\"converting to celcius or kelvin from fahrenheit\"\"\"\n",
    "    if scale == 'K':\n",
    "        return((temp - 32)*5/9 + 273.15)\n",
    "    elif scale == 'C':\n",
    "        return((temp - 32)*5/9)\n",
    "    else:\n",
    "        print('missing scale')"
   ]
  },
  {
   "cell_type": "markdown",
   "metadata": {},
   "source": [
    "### 5. Write a function that takes two arguments (feet and inches) and returns height in meters\n",
    "\n",
    "Verify it gives sensible answers"
   ]
  },
  {
   "cell_type": "code",
   "execution_count": 82,
   "metadata": {},
   "outputs": [],
   "source": [
    "def convert_to_meters(feet, inches):\n",
    "    \"\"\"converting feet and inches to meters\"\"\"\n",
    "    return (feet*12 + inches)*0.0254"
   ]
  },
  {
   "cell_type": "code",
   "execution_count": 83,
   "metadata": {},
   "outputs": [
    {
     "data": {
      "text/plain": [
       "1.8034"
      ]
     },
     "execution_count": 83,
     "metadata": {},
     "output_type": "execute_result"
    }
   ],
   "source": [
    "convert_to_meters(5, 11)"
   ]
  },
  {
   "cell_type": "markdown",
   "metadata": {},
   "source": [
    "### 6. Write a function takes one argument (height in meters) and returns two arguments (feet and inches)\n",
    "\n",
    "(Consult the [tutorial on numbers](https://docs.python.org/3/tutorial/introduction.html#numbers) if you are stuck on how to implement this.)"
   ]
  },
  {
   "cell_type": "code",
   "execution_count": 105,
   "metadata": {},
   "outputs": [],
   "source": [
    "def convert_from_meters(meters):\n",
    "    \"\"\"converting meters to feet and inches formatted like (feet, inches)\"\"\"\n",
    "    if (meters*39.37007874) % 12 != 0:\n",
    "        return(int((meters*39.37007874)/12), (meters*39.37007874) % 12)\n",
    "    else:\n",
    "        print(\"check function\")"
   ]
  },
  {
   "cell_type": "code",
   "execution_count": 106,
   "metadata": {},
   "outputs": [
    {
     "data": {
      "text/plain": [
       "(9, 10.11023621999999)"
      ]
     },
     "execution_count": 106,
     "metadata": {},
     "output_type": "execute_result"
    }
   ],
   "source": [
    "convert_from_meters(3)"
   ]
  },
  {
   "cell_type": "markdown",
   "metadata": {},
   "source": [
    "### 7. Verify that the \"round trip\" conversion from and back to meters is consistent \n",
    "\n",
    "Check for 3 different values of height in meters"
   ]
  },
  {
   "cell_type": "code",
   "execution_count": 99,
   "metadata": {},
   "outputs": [
    {
     "data": {
      "text/plain": [
       "1.5748"
      ]
     },
     "execution_count": 99,
     "metadata": {},
     "output_type": "execute_result"
    }
   ],
   "source": [
    "convert_to_meters(5, 2)"
   ]
  },
  {
   "cell_type": "code",
   "execution_count": 100,
   "metadata": {},
   "outputs": [
    {
     "data": {
      "text/plain": [
       "1.1938"
      ]
     },
     "execution_count": 100,
     "metadata": {},
     "output_type": "execute_result"
    }
   ],
   "source": [
    "convert_to_meters(3, 11)"
   ]
  },
  {
   "cell_type": "code",
   "execution_count": 110,
   "metadata": {},
   "outputs": [
    {
     "data": {
      "text/plain": [
       "1.7526"
      ]
     },
     "execution_count": 110,
     "metadata": {},
     "output_type": "execute_result"
    }
   ],
   "source": [
    "convert_to_meters(5, 9)"
   ]
  },
  {
   "cell_type": "code",
   "execution_count": 107,
   "metadata": {},
   "outputs": [
    {
     "data": {
      "text/plain": [
       "(5, 1.9999999997519922)"
      ]
     },
     "execution_count": 107,
     "metadata": {},
     "output_type": "execute_result"
    }
   ],
   "source": [
    "convert_from_meters(1.5748)"
   ]
  },
  {
   "cell_type": "code",
   "execution_count": 108,
   "metadata": {},
   "outputs": [
    {
     "data": {
      "text/plain": [
       "(3, 10.999999999811997)"
      ]
     },
     "execution_count": 108,
     "metadata": {},
     "output_type": "execute_result"
    }
   ],
   "source": [
    "convert_from_meters(1.1938)"
   ]
  },
  {
   "cell_type": "code",
   "execution_count": 111,
   "metadata": {},
   "outputs": [
    {
     "data": {
      "text/plain": [
       "(5, 8.999999999723997)"
      ]
     },
     "execution_count": 111,
     "metadata": {},
     "output_type": "execute_result"
    }
   ],
   "source": [
    "convert_from_meters(1.7526)"
   ]
  }
 ],
 "metadata": {
  "kernelspec": {
   "display_name": "Python 3",
   "language": "python",
   "name": "python3"
  },
  "language_info": {
   "codemirror_mode": {
    "name": "ipython",
    "version": 3
   },
   "file_extension": ".py",
   "mimetype": "text/x-python",
   "name": "python",
   "nbconvert_exporter": "python",
   "pygments_lexer": "ipython3",
   "version": "3.7.8"
  }
 },
 "nbformat": 4,
 "nbformat_minor": 4
}
